{
  "cells": [
    {
      "cell_type": "markdown",
      "metadata": {},
      "source": [
        "###    This is an example of how to use the program phifdt_pipe.py\n",
        "###    Look into phifdt_pipe.py for getting information about IN/OUT keywords and options."
      ]
    },
    {
      "cell_type": "code",
      "execution_count": 1,
      "metadata": {
        "execution": {
          "iopub.execute_input": "2021-07-12T07:30:51.327Z",
          "iopub.status.busy": "2021-07-12T07:30:51.323Z",
          "iopub.status.idle": "2021-07-12T07:30:53.267Z",
          "shell.execute_reply": "2021-07-12T07:30:53.341Z"
        }
      },
      "outputs": [],
      "source": [
        "'''\n",
        "First load the programs  \n",
        "'''\n",
        "import sys\n",
        "sys.path.append('../../../SPGPylibs/')\n",
        "import SPGPylibs as spg\n",
        "import matplotlib.pyplot as plt\n",
        "import numpy as np\n",
        "from astropy.io import fits as pyfits"
      ]
    },
    {
      "cell_type": "code",
      "execution_count": 2,
      "metadata": {
        "execution": {
          "iopub.execute_input": "2021-07-12T07:30:53.279Z",
          "iopub.status.busy": "2021-07-12T07:30:53.275Z",
          "iopub.status.idle": "2021-07-12T07:30:53.286Z",
          "shell.execute_reply": "2021-07-12T07:30:53.343Z"
        }
      },
      "outputs": [],
      "source": [
        "'''\n",
        "Now set the data file, dark, flat, and prefilter\n",
        "The data reduction can be done without prefilter, if required\n",
        "'''\n",
        "data_dir = '../../../SPGPylibs_tests/Gherardo_wcs/level1/'\n",
        "\n",
        "dark_f = '/Users/orozco/Dropbox_folder/SoPHI/PHI-COMMISSIONING/software-and-images/RSW1/solo_L0_phi-fdt-ilam_20200618T000547_V202006221044C_0066181001.fits'\n",
        "\n",
        "flat_f = '/Users/orozco/Dropbox_folder/Python/VS-GitHub/SPGPylibs_tests/flats_kll_23April2021_June24_spg5.fits'\n",
        "\n",
        "prefilter = '/Users/orozco/Dropbox_folder/SoPHI/PHI-COMMISSIONING/software-and-images/RSW1/0000990710_noMeta.fits'"
      ]
    },
    {
      "cell_type": "code",
      "execution_count": 3,
      "metadata": {
        "execution": {
          "iopub.execute_input": "2021-07-12T07:30:53.296Z",
          "iopub.status.busy": "2021-07-12T07:30:53.292Z",
          "iopub.status.idle": "2021-07-12T07:30:53.305Z",
          "shell.execute_reply": "2021-07-12T07:30:53.346Z"
        }
      },
      "outputs": [
        {
          "output_type": "stream",
          "name": "stdout",
          "text": [
            "solo_L1_phi-fdt-ilam_20200618T041205_V202106111347C_0066180150.fits\nsolo_L1_phi-fdt-ilam_20200618T044805_V202106111348C_0066180300.fits\nsolo_L1_phi-fdt-ilam_20200618T041805_V202106111347C_0066180175.fits\nsolo_L1_phi-fdt-ilam_20200618T042405_V202106111348C_0066180200.fits\nsolo_L1_phi-fdt-ilam_20200618T043605_V202106111348C_0066180250.fits\nsolo_L1_phi-fdt-ilam_20200618T044205_V202106111348C_0066180275.fits\nsolo_L1_phi-fdt-ilam_20200618T043005_V202106111348C_0066180225.fits\nsolo_L1_phi-fdt-ilam_20200618T040605_V202106111347C_0066180125.fits\nsolo_L1_phi-fdt-ilam_20200618T040005_V202106111347C_0066180100.fits\nsolo_L1_phi-fdt-ilam_20200618T042405_V202106111348C_0066180200.fits\n"
          ]
        }
      ],
      "source": [
        "list_of_files = spg.list_fits(path = data_dir,contain='L1',remove_dir=True)\n",
        "for i in list_of_files:\n",
        "    print(i)\n",
        "print(list_of_files[3])\n"
      ]
    },
    {
      "cell_type": "markdown",
      "metadata": {},
      "source": [
        "### Run the pipeline with desired options\n",
        "\n",
        "def phifdt_pipe(data_f,dark_f,flat_f,instrument = 'FDT40',flat_c = True,dark_c = True,\n",
        "    inner_radius = 250, outer_radius = 800, steps = 100, normalize_flat = 0., flat_n = 1.,\n",
        "    index = None, prefilter = True, prefilter_fits = '0000990710_noMeta.fits',\n",
        "    realign = False, verbose = True, outfile=None, mask_margin = 2, correct_fringes = False,\n",
        "    individualwavelengths = False,correct_ghost = False,putmediantozero=True,directory = './',\n",
        "    rte = False, debug = False,nlevel = 0.3,center_method='circlefit',loopthis=0,\n",
        "    cross_talk_IQUV = False, cross_talk_VQU = False, do2d = 0):\n",
        "\n",
        "    Parameters\n",
        "    ----------\n",
        "        Input:\n",
        "    data_f : string\n",
        "        Fits file of the raw FDT data  (if differe t path use directory keyword)\n",
        "    dark_f : string\n",
        "        Fits file of a Valid dark file (processed dark) (including path, if necessary)\n",
        "    flat_f : string\n",
        "        Fits file of a Valid FDT flatfield (including path, if necessary)\n",
        "    \n",
        "    IMPORTANT: dark_f, flat_f, and prefilter file must be provided with the FULL PATH. \n",
        "               the data has to be provided as a list of files (fits) and a directory: \"directory=\"\n",
        "        The output directories (Depending on RTE on or off) are\n",
        "        A)  directory + Level 2: reduced raw data L2+ilam plus RTE output (so far, BLOS, VLOS and SO1: continuum) \n",
        "        B)  directory + Level 2 + png: png figures of the RTE output (so far, BLOS and VLOS) \n",
        "        B)  directory + Level 2 + npz: NPZ (python) reduced raw data L2\n",
        "        \n",
        "    ** OPTIONAL ARGUMENTS **\n",
        "\n",
        "    instrument = 'FDT40' : select the instrument and PMP temperature (for demod)\n",
        "        -> implemented cases: -- 'FDT40','FDT45' --\n",
        "    flat_c = True : default is to apply flat field correction to the data\n",
        "    dark_c = True : default is to apply dark field correction to the data\n",
        "    inner_radius = 250, outer_radius = 600, steps = 100 : initial values for finding sun center\n",
        "    normalize_flat = 0 : To normalize flats internally to the mean value of 5% of the disk (central) intensity  \n",
        "    flat_n = 1.0 : flat scaling (flat = flat / flat_n) \n",
        "\n",
        "    index = None : in case you want a particular flat to be applied at another wave, e.g.,\n",
        "        index = [5,1,2,3,4,0] exchange the first and last wave flats\n",
        "        This is for testing stuff, mainly. \n",
        "    prefilter = 1 : To correct for the prefilter \n",
        "    prefilter_fits = '../RSW1/0000990710_noMeta.fits' : User should provide prefilter data fits file location\n",
        "    realign = False : bool\n",
        "        Realign all images before demodulating using FFT \n",
        "    individualwavelengths = False : bool\n",
        "        Correct crosstalk from I to QUV for individual wavelengths\n",
        "    vervose: True prints a lot of stuff (and plots)\n",
        "    mask_margin = 2: 'Number of pixels to contract the sun mask for output of RTE'\n",
        "    correct_fringes = False: Fringe correction\n",
        "        'manual': first FM version. Freq, mask applied to all images with fixed frequencies\n",
        "        'auto' : calculate fringes freq. automatically (in development).\n",
        "    correct_ghost = False; Correcto ghost images\n",
        "    putmediantozero=True; puts median value to zero before RTE\n",
        "    rte = False: Run RTE     if rte == 'RTE' or rte == 'CE' or rte == 'CE+RTE':\n",
        "        'RTE': RTE only\n",
        "        'CE+RTE': RTE with classical estiamtes\n",
        "        'CE': Only classical estimates\n",
        "        'cog': Only Center of gravity (in testing)\n",
        "    cross_talk_IQUV= False: apply crostalk correction from Stokes I to Stokes Q, U, and V.\n",
        "    cross_talk_VQU= False: apply crostalk correction from Stokes V to Stokes Q and U.\n",
        "    nlevel = 0.3: Noise level above which to evaluate cross_talk_VQU (In testing)\n",
        "    center_method='circlefit' or 'hough'\n",
        "\n"
      ]
    },
    {
      "cell_type": "code",
      "execution_count": 12,
      "metadata": {
        "execution": {
          "iopub.execute_input": "2021-07-12T07:30:53.335Z",
          "iopub.status.busy": "2021-07-12T07:30:53.332Z",
          "iopub.status.idle": "2021-07-11T21:06:45.979Z",
          "shell.execute_reply": "2021-07-11T21:06:45.989Z"
        }
      },
      "outputs": [
        {
          "name": "stdout",
          "output_type": "stream",
          "text": [
            "-------------------------------------------------------------- \u001b[92m\n",
            "PHI FDT data reduction software (for develping purposes only)  \u001b[92m\n",
            "-------------------------------------------------------------- \u001b[92m\n",
            "-->>>>>>> Reading Data              \n",
            "          DATA IS DIVIDED by 256.   \n",
            "-->>>>>>> data DID 66180225\n",
            "-->>>>>>> Reshaping data to [wave,Stokes,y-dim,x-dim] \n",
            "Dimensions:  0 2047 0 2047\n",
            "-->>>>>>> Reading Flats                    \n",
            "          Assumes they are already normalized to ONE \n",
            "          input should be [wave X Stokes,y-dim,x-dim].\n",
            "-->>>>>>> Reshaping Flat to [wave,Stokes,y-dim,x-dim] \n",
            "-->>>>>>> Reading Darks                   \n",
            "          Input should be [y-dim,x-dim].\n",
            "          DARK IS DIVIDED by 256.   \n",
            "Dark DID:  66181001\n",
            "-->>>>>>> Correcting dark current.\n",
            "-->>>>>>> finding the center of the solar disk (needed for masking) \n",
            "920.8581421569216 1141.0782141544514 516.9618097790451\n",
            "          Uptade header with new center:\n",
            "          OLD center:\n",
            "                  at: CRPIX1[x]= 1040.243  CRPIX2[y]= 999.3509  radius= 516\n",
            "          NEW center:\n",
            "                  at: CRPIX1[x]= 1141.08  CRPIX2[y]= 920.86  radius= 516\n",
            "-->>>>>>> Creating a mask for RTE with  1  px margin\n",
            "   RX =  [626, 1656] RY =  [405, 1435]\n",
            "-->>>>>>> Obtaining voltages from data \n",
            "-- Obtaining voltages......\n",
            "          Data FG voltages:  [-242.  -18.  208.  433.  660. -638.]\n",
            "          Continuum position at wave:  5\n",
            "          Data wave axis [mA]:  [6173.2559854 6173.3346766 6173.4140704 6173.4931129 6173.572858\n",
            " 6173.1168706]\n",
            "          Data sampling [mA]:  64.19015086820382\n"
          ]
        }
      ],
      "source": [
        "'''For a single file'''\n",
        "\n",
        "spg.phifdt_pipe(list_of_files[6],dark_f,flat_f,prefilter=False,instrument = 'FDT40', prefilter_fits = prefilter,mask_margin = 1,correct_ghost=False, verbose = False,correct_fringes='manual',cross_talk_IQUV = False,directory=data_dir,rte = 'RTE')"
      ]
    }
  ],
  "metadata": {
    "interpreter": {
      "hash": "de466a7d5b539c7945159ad1dd61f9bf184da8b0459f8adf5385a149ad70bc6a"
    },
    "kernelspec": {
      "name": "python3",
      "display_name": "Python 3.7.7 64-bit ('miniconda3': virtualenv)"
    },
    "language_info": {
      "codemirror_mode": {
        "name": "ipython",
        "version": 3
      },
      "file_extension": ".py",
      "mimetype": "text/x-python",
      "name": "python",
      "nbconvert_exporter": "python",
      "pygments_lexer": "ipython3",
      "version": "3.7.7"
    },
    "nteract": {
      "version": "0.28.0"
    },
    "orig_nbformat": 4
  },
  "nbformat": 4,
  "nbformat_minor": 2
}