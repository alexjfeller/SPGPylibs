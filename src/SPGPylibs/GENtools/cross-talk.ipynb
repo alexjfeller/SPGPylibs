{
 "cells": [
  {
   "cell_type": "code",
   "execution_count": 68,
   "metadata": {},
   "outputs": [],
   "source": [
    "import numpy as np\n",
    "import matplotlib.pyplot as plt"
   ]
  },
  {
   "cell_type": "markdown",
   "metadata": {},
   "source": [
    "## Simply linear regresion\n",
    "#ref: Numerical Recipes\n",
    "\n",
    "Problem: fit a straight-line model to Stokes I vs StokesQUV\n",
    "\n",
    "$S_j(x) = a + bS_I(x)$\n",
    "\n",
    "where $S_I$ is Stokes I, $S_j(x)$ represents Stokes Q,U or V and $x$ represents valid pixels (npx) in the image. \n",
    "\n",
    "This linear regression problem can be solved analyticaly.\n",
    "\n",
    "This being said, the solution for a and b is:\n",
    "\n",
    "$$\n",
    " a = \\frac{S_{xx}S_y - S_xS_{xy}}{\\Delta} \\,\\,\\,\\,\\,\\, b = \\frac{SS_{xy}-S_xS_y}{\\Delta} \\,\\,\\,\\,\\,\\, \\Delta = SS_{xx} - (S_x^2)\n",
    "$$\n",
    "with\n",
    "$$\n",
    " S_x = \\sum_{i=1}^{npx}S_I(i) \\,\\,\\,\\,\\,\\, S_y = \\sum_{i=1}^{npx}S_j(i)  \\,\\,\\,\\,\\,\\, S_{xx} = \\sum_{i=1}^{npx}S_I^2(i)  \\,\\,\\,\\,\\,\\, S_{xy} = \\sum_{i=1}^{npx}S_I(i) S_j(i) \n",
    "$$\n",
    "The value of $S$ is determined from the noise in the data but it can be safelly set to 1. If no information about noise, these equations are modified sligtly to avoid round-off errors."
   ]
  },
  {
   "cell_type": "code",
   "execution_count": 69,
   "metadata": {},
   "outputs": [],
   "source": [
    "def coeficients(x, y):\n",
    "    #assumes input is 1D vector (flatten() or whatever)\n",
    "    n_points = len(x)\n",
    "    #Calculate S_x, S_y, S_xx, S_xy\n",
    "    S_x = sum(x)\n",
    "    S_y = sum(y)\n",
    "    S_xx = sum(x*x) - S_x*S_x / n_points\n",
    "    S_xy = sum(y*x) - S_x*S_y / n_points\n",
    "    #Calculate off-ser and slope\n",
    "    b = S_xy / S_xx\n",
    "    a = (S_y - b*S_x)/ n_points\n",
    "    return (a,b)\n",
    " "
   ]
  },
  {
   "cell_type": "code",
   "execution_count": 70,
   "metadata": {},
   "outputs": [
    {
     "name": "stdout",
     "output_type": "stream",
     "text": [
      "Coefficients:\n",
      "off_set = 31.070892610096124 \n",
      "slope = 4.282255009503875\n"
     ]
    },
    {
     "data": {
      "image/png": "[encoded data removed]",
      "text/plain": [
       "<Figure size 432x288 with 1 Axes>"
      ]
     },
     "metadata": {
      "needs_background": "light"
     },
     "output_type": "display_data"
    }
   ],
   "source": [
    "x = np.arange(0,100) \n",
    "y = 20.3 + x * 4.3 + 20*np.random.rand(len(x))\n",
    "\n",
    "(off_set, slope) = coeficients(x, y)\n",
    "print(\"Coefficients:\\noff_set = {} \\nslope = {}\".format(off_set, slope))\n",
    "plt.scatter(x, y,marker = \"o\", s = 10)\n",
    "plt.plot(x, off_set + slope*x, color = \"red\")\n",
    "plt.show()"
   ]
  }
 ],
 "metadata": {
  "interpreter": {
   "hash": "b44af457ca18329e8a5589a632869e07939e9f98bbf063e64d00dfcca876210e"
  },
  "kernelspec": {
   "display_name": "Python 3.7.7 64-bit ('base': conda)",
   "name": "python3"
  },
  "language_info": {
   "codemirror_mode": {
    "name": "ipython",
    "version": 3
   },
   "file_extension": ".py",
   "mimetype": "text/x-python",
   "name": "python",
   "nbconvert_exporter": "python",
   "pygments_lexer": "ipython3",
   "version": "3.7.7"
  },
  "orig_nbformat": 4
 },
 "nbformat": 4,
 "nbformat_minor": 2
}
